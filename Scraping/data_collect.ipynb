{
  "nbformat": 4,
  "nbformat_minor": 0,
  "metadata": {
    "colab": {
      "name": "data_collect.ipynb",
      "provenance": [],
      "collapsed_sections": [],
      "authorship_tag": "ABX9TyOMefovM7Uu+yP044cOl8lP"
    },
    "kernelspec": {
      "name": "python3",
      "display_name": "Python 3"
    },
    "language_info": {
      "name": "python"
    }
  },
  "cells": [
    {
      "cell_type": "code",
      "metadata": {
        "colab": {
          "base_uri": "https://localhost:8080/",
          "height": 357
        },
        "id": "BnC5UeKBksyl",
        "outputId": "5f28b939-f29e-4df2-ae4d-7c1b3f8baa5a"
      },
      "source": [
        "import pandas as pd\n",
        "df = pd.read_excel('./culture_data.xlsx')\n",
        "df.head(10)"
      ],
      "execution_count": 1,
      "outputs": [
        {
          "output_type": "execute_result",
          "data": {
            "text/html": [
              "<div>\n",
              "<style scoped>\n",
              "    .dataframe tbody tr th:only-of-type {\n",
              "        vertical-align: middle;\n",
              "    }\n",
              "\n",
              "    .dataframe tbody tr th {\n",
              "        vertical-align: top;\n",
              "    }\n",
              "\n",
              "    .dataframe thead th {\n",
              "        text-align: right;\n",
              "    }\n",
              "</style>\n",
              "<table border=\"1\" class=\"dataframe\">\n",
              "  <thead>\n",
              "    <tr style=\"text-align: right;\">\n",
              "      <th></th>\n",
              "      <th>title</th>\n",
              "      <th>category</th>\n",
              "      <th>score</th>\n",
              "    </tr>\n",
              "  </thead>\n",
              "  <tbody>\n",
              "    <tr>\n",
              "      <th>0</th>\n",
              "      <td>아이즈원 리런칭을 위한 작은 한 걸음, 평행우주 프로젝트</td>\n",
              "      <td>공연·컬쳐</td>\n",
              "      <td>NaN</td>\n",
              "    </tr>\n",
              "    <tr>\n",
              "      <th>1</th>\n",
              "      <td>[뮤니브콘서트] 새로운 대학가요제, 그 꿈의 무대를 함께 세워주세요!</td>\n",
              "      <td>공연·컬쳐</td>\n",
              "      <td>종료성공</td>\n",
              "    </tr>\n",
              "    <tr>\n",
              "      <th>2</th>\n",
              "      <td>월드오브댄스 한국대표 미국 파이널에 도전하다</td>\n",
              "      <td>공연·컬쳐</td>\n",
              "      <td>종료성공</td>\n",
              "    </tr>\n",
              "    <tr>\n",
              "      <th>3</th>\n",
              "      <td>&lt;판도라&gt; 2016 재난 블록버스터의 대미를 장식할 영화</td>\n",
              "      <td>공연·컬쳐</td>\n",
              "      <td>NaN</td>\n",
              "    </tr>\n",
              "    <tr>\n",
              "      <th>4</th>\n",
              "      <td>군백기 마친 \"하이라이트\"가 돌아왔다! 역대급 고퀄 포토북 출시!</td>\n",
              "      <td>공연·컬쳐</td>\n",
              "      <td>종료성공</td>\n",
              "    </tr>\n",
              "    <tr>\n",
              "      <th>5</th>\n",
              "      <td>핑거스타일 기타리스트 정성하의 '프라이빗 콘서트' with 공간와디즈</td>\n",
              "      <td>공연·컬쳐</td>\n",
              "      <td>종료성공</td>\n",
              "    </tr>\n",
              "    <tr>\n",
              "      <th>6</th>\n",
              "      <td>인싸취미템 1위ㅣ더욱 풍부한 음색으로 돌아온 힐링악기, 네코즈 칼림바</td>\n",
              "      <td>공연·컬쳐</td>\n",
              "      <td>종료성공</td>\n",
              "    </tr>\n",
              "    <tr>\n",
              "      <th>7</th>\n",
              "      <td>회복의 시작! 제이어스 워십 앨범 The Beginning 발매 프로젝트</td>\n",
              "      <td>공연·컬쳐</td>\n",
              "      <td>종료성공</td>\n",
              "    </tr>\n",
              "    <tr>\n",
              "      <th>8</th>\n",
              "      <td>장애 예술가들의 콜라보 프로젝트, 봄 울림 Art &amp; Talk 콘서트</td>\n",
              "      <td>공연·컬쳐</td>\n",
              "      <td>종료성공</td>\n",
              "    </tr>\n",
              "    <tr>\n",
              "      <th>9</th>\n",
              "      <td>영화가 전시와 파티를 만났다! 신개념 단편영화파티, Synerma+</td>\n",
              "      <td>공연·컬쳐</td>\n",
              "      <td>종료성공</td>\n",
              "    </tr>\n",
              "  </tbody>\n",
              "</table>\n",
              "</div>"
            ],
            "text/plain": [
              "                                      title category score\n",
              "0           아이즈원 리런칭을 위한 작은 한 걸음, 평행우주 프로젝트    공연·컬쳐   NaN\n",
              "1    [뮤니브콘서트] 새로운 대학가요제, 그 꿈의 무대를 함께 세워주세요!    공연·컬쳐  종료성공\n",
              "2                  월드오브댄스 한국대표 미국 파이널에 도전하다    공연·컬쳐  종료성공\n",
              "3           <판도라> 2016 재난 블록버스터의 대미를 장식할 영화    공연·컬쳐   NaN\n",
              "4      군백기 마친 \"하이라이트\"가 돌아왔다! 역대급 고퀄 포토북 출시!    공연·컬쳐  종료성공\n",
              "5    핑거스타일 기타리스트 정성하의 '프라이빗 콘서트' with 공간와디즈    공연·컬쳐  종료성공\n",
              "6    인싸취미템 1위ㅣ더욱 풍부한 음색으로 돌아온 힐링악기, 네코즈 칼림바    공연·컬쳐  종료성공\n",
              "7  회복의 시작! 제이어스 워십 앨범 The Beginning 발매 프로젝트    공연·컬쳐  종료성공\n",
              "8    장애 예술가들의 콜라보 프로젝트, 봄 울림 Art & Talk 콘서트    공연·컬쳐  종료성공\n",
              "9     영화가 전시와 파티를 만났다! 신개념 단편영화파티, Synerma+    공연·컬쳐  종료성공"
            ]
          },
          "metadata": {
            "tags": []
          },
          "execution_count": 1
        }
      ]
    },
    {
      "cell_type": "code",
      "metadata": {
        "id": "icYiRoGomKoB",
        "colab": {
          "base_uri": "https://localhost:8080/",
          "height": 357
        },
        "outputId": "c4819203-7f21-4087-fcb8-a5f61b2ef08e"
      },
      "source": [
        "df_drop = df.dropna(axis=0)\n",
        "df_drop.head(10)"
      ],
      "execution_count": 3,
      "outputs": [
        {
          "output_type": "execute_result",
          "data": {
            "text/html": [
              "<div>\n",
              "<style scoped>\n",
              "    .dataframe tbody tr th:only-of-type {\n",
              "        vertical-align: middle;\n",
              "    }\n",
              "\n",
              "    .dataframe tbody tr th {\n",
              "        vertical-align: top;\n",
              "    }\n",
              "\n",
              "    .dataframe thead th {\n",
              "        text-align: right;\n",
              "    }\n",
              "</style>\n",
              "<table border=\"1\" class=\"dataframe\">\n",
              "  <thead>\n",
              "    <tr style=\"text-align: right;\">\n",
              "      <th></th>\n",
              "      <th>title</th>\n",
              "      <th>category</th>\n",
              "      <th>score</th>\n",
              "    </tr>\n",
              "  </thead>\n",
              "  <tbody>\n",
              "    <tr>\n",
              "      <th>1</th>\n",
              "      <td>[뮤니브콘서트] 새로운 대학가요제, 그 꿈의 무대를 함께 세워주세요!</td>\n",
              "      <td>공연·컬쳐</td>\n",
              "      <td>종료성공</td>\n",
              "    </tr>\n",
              "    <tr>\n",
              "      <th>2</th>\n",
              "      <td>월드오브댄스 한국대표 미국 파이널에 도전하다</td>\n",
              "      <td>공연·컬쳐</td>\n",
              "      <td>종료성공</td>\n",
              "    </tr>\n",
              "    <tr>\n",
              "      <th>4</th>\n",
              "      <td>군백기 마친 \"하이라이트\"가 돌아왔다! 역대급 고퀄 포토북 출시!</td>\n",
              "      <td>공연·컬쳐</td>\n",
              "      <td>종료성공</td>\n",
              "    </tr>\n",
              "    <tr>\n",
              "      <th>5</th>\n",
              "      <td>핑거스타일 기타리스트 정성하의 '프라이빗 콘서트' with 공간와디즈</td>\n",
              "      <td>공연·컬쳐</td>\n",
              "      <td>종료성공</td>\n",
              "    </tr>\n",
              "    <tr>\n",
              "      <th>6</th>\n",
              "      <td>인싸취미템 1위ㅣ더욱 풍부한 음색으로 돌아온 힐링악기, 네코즈 칼림바</td>\n",
              "      <td>공연·컬쳐</td>\n",
              "      <td>종료성공</td>\n",
              "    </tr>\n",
              "    <tr>\n",
              "      <th>7</th>\n",
              "      <td>회복의 시작! 제이어스 워십 앨범 The Beginning 발매 프로젝트</td>\n",
              "      <td>공연·컬쳐</td>\n",
              "      <td>종료성공</td>\n",
              "    </tr>\n",
              "    <tr>\n",
              "      <th>8</th>\n",
              "      <td>장애 예술가들의 콜라보 프로젝트, 봄 울림 Art &amp; Talk 콘서트</td>\n",
              "      <td>공연·컬쳐</td>\n",
              "      <td>종료성공</td>\n",
              "    </tr>\n",
              "    <tr>\n",
              "      <th>9</th>\n",
              "      <td>영화가 전시와 파티를 만났다! 신개념 단편영화파티, Synerma+</td>\n",
              "      <td>공연·컬쳐</td>\n",
              "      <td>종료성공</td>\n",
              "    </tr>\n",
              "    <tr>\n",
              "      <th>10</th>\n",
              "      <td>&lt;크래프터&gt; 50년 장인의 기타다운 기타, 제대로 만든 마호가니 기타</td>\n",
              "      <td>공연·컬쳐</td>\n",
              "      <td>종료성공</td>\n",
              "    </tr>\n",
              "    <tr>\n",
              "      <th>11</th>\n",
              "      <td>영화  [좋아해, 너를] 상영관 확보 프로젝트</td>\n",
              "      <td>공연·컬쳐</td>\n",
              "      <td>종료성공</td>\n",
              "    </tr>\n",
              "  </tbody>\n",
              "</table>\n",
              "</div>"
            ],
            "text/plain": [
              "                                       title category score\n",
              "1     [뮤니브콘서트] 새로운 대학가요제, 그 꿈의 무대를 함께 세워주세요!    공연·컬쳐  종료성공\n",
              "2                   월드오브댄스 한국대표 미국 파이널에 도전하다    공연·컬쳐  종료성공\n",
              "4       군백기 마친 \"하이라이트\"가 돌아왔다! 역대급 고퀄 포토북 출시!    공연·컬쳐  종료성공\n",
              "5     핑거스타일 기타리스트 정성하의 '프라이빗 콘서트' with 공간와디즈    공연·컬쳐  종료성공\n",
              "6     인싸취미템 1위ㅣ더욱 풍부한 음색으로 돌아온 힐링악기, 네코즈 칼림바    공연·컬쳐  종료성공\n",
              "7   회복의 시작! 제이어스 워십 앨범 The Beginning 발매 프로젝트    공연·컬쳐  종료성공\n",
              "8     장애 예술가들의 콜라보 프로젝트, 봄 울림 Art & Talk 콘서트    공연·컬쳐  종료성공\n",
              "9      영화가 전시와 파티를 만났다! 신개념 단편영화파티, Synerma+    공연·컬쳐  종료성공\n",
              "10    <크래프터> 50년 장인의 기타다운 기타, 제대로 만든 마호가니 기타    공연·컬쳐  종료성공\n",
              "11                 영화  [좋아해, 너를] 상영관 확보 프로젝트    공연·컬쳐  종료성공"
            ]
          },
          "metadata": {
            "tags": []
          },
          "execution_count": 3
        }
      ]
    },
    {
      "cell_type": "code",
      "metadata": {
        "id": "u4UZrnBpE8kH"
      },
      "source": [
        ""
      ],
      "execution_count": null,
      "outputs": []
    }
  ]
}