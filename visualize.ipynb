{
 "cells": [
  {
   "cell_type": "code",
   "execution_count": 51,
   "id": "e9359161",
   "metadata": {},
   "outputs": [
    {
     "data": {
      "text/html": [
       "<div>\n",
       "<style scoped>\n",
       "    .dataframe tbody tr th:only-of-type {\n",
       "        vertical-align: middle;\n",
       "    }\n",
       "\n",
       "    .dataframe tbody tr th {\n",
       "        vertical-align: top;\n",
       "    }\n",
       "\n",
       "    .dataframe thead th {\n",
       "        text-align: right;\n",
       "    }\n",
       "</style>\n",
       "<table border=\"1\" class=\"dataframe\">\n",
       "  <thead>\n",
       "    <tr style=\"text-align: right;\">\n",
       "      <th></th>\n",
       "      <th>star grade</th>\n",
       "      <th>review</th>\n",
       "    </tr>\n",
       "  </thead>\n",
       "  <tbody>\n",
       "    <tr>\n",
       "      <th>0</th>\n",
       "      <td>1.5</td>\n",
       "      <td>둘다 *근에 팔았어요.\\n\\n와치페이스 최악\\n문의답변도 성의 없고 너무 오래 걸리...</td>\n",
       "    </tr>\n",
       "    <tr>\n",
       "      <th>1</th>\n",
       "      <td>5.0</td>\n",
       "      <td>사용한지 꽤 지나서 평가를 남기게 되었네요~^^;;\\n아마 와디즈 첫 펀딩이라 평가...</td>\n",
       "    </tr>\n",
       "    <tr>\n",
       "      <th>2</th>\n",
       "      <td>5.0</td>\n",
       "      <td>첫 스마트워치인데 워치페이스 커스텀편집이 안되는것 빼면 만족하고 사용중입니다.</td>\n",
       "    </tr>\n",
       "    <tr>\n",
       "      <th>3</th>\n",
       "      <td>2.5</td>\n",
       "      <td>다양한 기능이 있지만 정상적으로 잘동하지 않는경우가 많아요...\\n그리고 워치페이스...</td>\n",
       "    </tr>\n",
       "    <tr>\n",
       "      <th>4</th>\n",
       "      <td>4.0</td>\n",
       "      <td>기능적으로 만족합니다. 별도로 구입한 메탈스트랩은 아쉽네요.</td>\n",
       "    </tr>\n",
       "    <tr>\n",
       "      <th>5</th>\n",
       "      <td>1.0</td>\n",
       "      <td>추가 밴드가 불량입니다. 펀딩 이후 곧바로 시중에서 더 저렴하게 구매가 가능했네요.</td>\n",
       "    </tr>\n",
       "    <tr>\n",
       "      <th>6</th>\n",
       "      <td>3.5</td>\n",
       "      <td>화면이 아쉽지만 그냥 쓸만합니다</td>\n",
       "    </tr>\n",
       "    <tr>\n",
       "      <th>7</th>\n",
       "      <td>2.0</td>\n",
       "      <td>싸게 잘 산 것 뿐</td>\n",
       "    </tr>\n",
       "    <tr>\n",
       "      <th>8</th>\n",
       "      <td>4.0</td>\n",
       "      <td>첫 스마트워치라 그런지 별 불만 없이 잘 사용하고 있어요. 복잡한 기능을 원한 것도...</td>\n",
       "    </tr>\n",
       "    <tr>\n",
       "      <th>9</th>\n",
       "      <td>2.5</td>\n",
       "      <td>가성비 좋을 줄 알았는데 그저 그러해서 아쉬웠네요</td>\n",
       "    </tr>\n",
       "  </tbody>\n",
       "</table>\n",
       "</div>"
      ],
      "text/plain": [
       "   star grade                                             review\n",
       "0         1.5  둘다 *근에 팔았어요.\\n\\n와치페이스 최악\\n문의답변도 성의 없고 너무 오래 걸리...\n",
       "1         5.0  사용한지 꽤 지나서 평가를 남기게 되었네요~^^;;\\n아마 와디즈 첫 펀딩이라 평가...\n",
       "2         5.0        첫 스마트워치인데 워치페이스 커스텀편집이 안되는것 빼면 만족하고 사용중입니다.\n",
       "3         2.5  다양한 기능이 있지만 정상적으로 잘동하지 않는경우가 많아요...\\n그리고 워치페이스...\n",
       "4         4.0                  기능적으로 만족합니다. 별도로 구입한 메탈스트랩은 아쉽네요.\n",
       "5         1.0     추가 밴드가 불량입니다. 펀딩 이후 곧바로 시중에서 더 저렴하게 구매가 가능했네요.\n",
       "6         3.5                                  화면이 아쉽지만 그냥 쓸만합니다\n",
       "7         2.0                                         싸게 잘 산 것 뿐\n",
       "8         4.0  첫 스마트워치라 그런지 별 불만 없이 잘 사용하고 있어요. 복잡한 기능을 원한 것도...\n",
       "9         2.5                        가성비 좋을 줄 알았는데 그저 그러해서 아쉬웠네요"
      ]
     },
     "execution_count": 51,
     "metadata": {},
     "output_type": "execute_result"
    }
   ],
   "source": [
    "import pandas as pd\n",
    "total_data = pd.read_csv('./tech_scraping.csv',encoding='CP949')\n",
    "total_data.head(10)"
   ]
  },
  {
   "cell_type": "code",
   "execution_count": 52,
   "id": "3e866808",
   "metadata": {},
   "outputs": [],
   "source": [
    "x_data = total_data['review']\n",
    "y_data = total_data['star grade']"
   ]
  },
  {
   "cell_type": "code",
   "execution_count": 53,
   "id": "e2c9fad2",
   "metadata": {},
   "outputs": [],
   "source": [
    "def make_y_data(val):\n",
    "    if (1 <= val < 2):\n",
    "        return 1\n",
    "    elif (2 <= val < 3):\n",
    "        return 2\n",
    "    elif (3 <= val < 4):\n",
    "        return 3\n",
    "    elif (4 <= val < 5):\n",
    "        return 4\n",
    "    elif (5 <= val < 6):\n",
    "        return 5\n",
    "    else:\n",
    "        return None"
   ]
  },
  {
   "cell_type": "code",
   "execution_count": 54,
   "id": "a0741df4",
   "metadata": {},
   "outputs": [],
   "source": [
    "y_data = y_data.apply(lambda val:make_y_data(val))"
   ]
  },
  {
   "cell_type": "code",
   "execution_count": 57,
   "id": "58cdfc63",
   "metadata": {},
   "outputs": [],
   "source": [
    "rate_data = y_data.value_counts()"
   ]
  },
  {
   "cell_type": "code",
   "execution_count": 61,
   "id": "e1bb6407",
   "metadata": {},
   "outputs": [
    {
     "data": {
      "text/plain": [
       "(3945, 1656, 2505, 3439, 3923)"
      ]
     },
     "execution_count": 61,
     "metadata": {},
     "output_type": "execute_result"
    }
   ],
   "source": [
    "rate_data[1], rate_data[2], rate_data[3], rate_data[4], rate_data[5]"
   ]
  },
  {
   "cell_type": "code",
   "execution_count": 62,
   "id": "622fea2f",
   "metadata": {},
   "outputs": [
    {
     "data": {
      "text/plain": [
       "3945"
      ]
     },
     "execution_count": 62,
     "metadata": {},
     "output_type": "execute_result"
    }
   ],
   "source": [
    "max(rate_data)"
   ]
  },
  {
   "cell_type": "code",
   "execution_count": 71,
   "id": "27279da9",
   "metadata": {},
   "outputs": [
    {
     "ename": "SyntaxError",
     "evalue": "can't assign to function call (<ipython-input-71-c7922cee08cc>, line 4)",
     "output_type": "error",
     "traceback": [
      "\u001b[1;36m  File \u001b[1;32m\"<ipython-input-71-c7922cee08cc>\"\u001b[1;36m, line \u001b[1;32m4\u001b[0m\n\u001b[1;33m    colors.max() = 'crimson'\u001b[0m\n\u001b[1;37m                            ^\u001b[0m\n\u001b[1;31mSyntaxError\u001b[0m\u001b[1;31m:\u001b[0m can't assign to function call\n"
     ]
    }
   ],
   "source": [
    "import plotly.graph_objects as go\n",
    "\n",
    "colors = ['lightslategray',] * 5\n",
    "colors[] = 'crimson'\n",
    "\n",
    "fig = go.Figure(data=[go.Bar(\n",
    "    x=['1', '2', '3', '4', '5'],\n",
    "    y=[rate_data[1], rate_data[2], rate_data[3], rate_data[4], rate_data[5]],\n",
    "    marker_color = colors # marker color can be a single color value or an iterable\n",
    ")])\n",
    "fig.update_layout(title_text='별점 분포')"
   ]
  },
  {
   "cell_type": "code",
   "execution_count": null,
   "id": "a1b4699d",
   "metadata": {},
   "outputs": [],
   "source": []
  }
 ],
 "metadata": {
  "kernelspec": {
   "display_name": "Python 3",
   "language": "python",
   "name": "python3"
  },
  "language_info": {
   "codemirror_mode": {
    "name": "ipython",
    "version": 3
   },
   "file_extension": ".py",
   "mimetype": "text/x-python",
   "name": "python",
   "nbconvert_exporter": "python",
   "pygments_lexer": "ipython3",
   "version": "3.6.4"
  }
 },
 "nbformat": 4,
 "nbformat_minor": 5
}
