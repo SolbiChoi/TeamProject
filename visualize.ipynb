{
 "cells": [
  {
   "cell_type": "markdown",
   "id": "f7acdd76",
   "metadata": {},
   "source": [
    "# DB 담으면 불러오는 경로 바꾸기"
   ]
  },
  {
   "cell_type": "code",
   "execution_count": 4,
   "id": "91550c85",
   "metadata": {},
   "outputs": [],
   "source": [
    "import sqlite3\n",
    "import pandas as pd\n",
    "\n",
    "conn = sqlite3.connect('./polls/scraping_db/wadizdb.sqlite3')\n",
    "cur = conn.cursor()"
   ]
  },
  {
   "cell_type": "code",
   "execution_count": 6,
   "id": "169ad483",
   "metadata": {},
   "outputs": [],
   "source": [
    "category = request.GET.get('category')\n",
    "conn = sqlite3.connect('../polls/scraping_db/wadizdb.sqlite3')\n",
    "cur = conn.cursor()\n",
    "df = pd.read_sql_query(\"SELECT * FROM table\"+category+\"\", conn) # 해당 카테고리의 DB를 불러옴"
   ]
  },
  {
   "cell_type": "code",
   "execution_count": 19,
   "id": "286cbbc0",
   "metadata": {},
   "outputs": [],
   "source": [
    "# tech_total_data = pd.read_sql('select * from  table_culture', con = conn)\n",
    "# food_total_data = pd.read_sql('select * from  table_culture', con = conn)\n",
    "# fashion_total_data = pd.read_sql('select * from  table_culture', con = conn)\n",
    "# living_total_data = pd.read_sql('select * from  table_culture', con = conn)\n",
    "# beauty_total_data = pd.read_sql('select * from  table_culture', con = conn)"
   ]
  },
  {
   "cell_type": "code",
   "execution_count": 20,
   "id": "5a359d0a",
   "metadata": {},
   "outputs": [],
   "source": [
    "x_data = df['review']\n",
    "y_data = df['star grade']"
   ]
  },
  {
   "cell_type": "code",
   "execution_count": 17,
   "id": "a2f4a7e5",
   "metadata": {},
   "outputs": [],
   "source": [
    "def make_y_data(val):\n",
    "    if (1 <= val < 2):\n",
    "        return 1\n",
    "    elif (2 <= val < 3):\n",
    "        return 2\n",
    "    elif (3 <= val < 4):\n",
    "        return 3\n",
    "    elif (4 <= val < 5):\n",
    "        return 4\n",
    "    elif (5 <= val < 6):\n",
    "        return 5\n",
    "    else:\n",
    "        return None"
   ]
  },
  {
   "cell_type": "code",
   "execution_count": 18,
   "id": "57955796",
   "metadata": {},
   "outputs": [],
   "source": [
    "y_data = y_data.apply(lambda val:make_y_data(val))"
   ]
  },
  {
   "cell_type": "code",
   "execution_count": 21,
   "id": "d6270886",
   "metadata": {},
   "outputs": [],
   "source": [
    "rate_data = y_data.value_counts()"
   ]
  },
  {
   "cell_type": "code",
   "execution_count": 22,
   "id": "294d19db",
   "metadata": {},
   "outputs": [
    {
     "data": {
      "text/plain": [
       "(62, 58, 82, 266, 1032)"
      ]
     },
     "execution_count": 22,
     "metadata": {},
     "output_type": "execute_result"
    }
   ],
   "source": [
    "rate_data[1], rate_data[2], rate_data[3], rate_data[4], rate_data[5]"
   ]
  },
  {
   "cell_type": "code",
   "execution_count": null,
   "id": "f33bd6f1",
   "metadata": {},
   "outputs": [],
   "source": [
    "max(rate_data)"
   ]
  },
  {
   "cell_type": "markdown",
   "id": "dfb03b72",
   "metadata": {},
   "source": [
    "# 1. Bar Chart (별점 분포)\n",
    "JAVA Script : https://plotly.com/javascript/bar-charts/"
   ]
  },
  {
   "cell_type": "code",
   "execution_count": null,
   "id": "b4b50c98",
   "metadata": {},
   "outputs": [],
   "source": [
    "import plotly.graph_objects as go\n",
    "\n",
    "colors = ['lightslategray',] * 5\n",
    "# colors_max = max(rate_data)\n",
    "colors[0] = 'royalblue'\n",
    "\n",
    "fig = go.Figure(data=[go.Bar(\n",
    "    x=['☆☆☆☆★', '☆☆☆★★', '☆☆★★★', '☆★★★★', '★★★★★'],\n",
    "    y=[rate_data[1], rate_data[2], rate_data[3], rate_data[4], rate_data[5]],\n",
    "    marker_color = colors # marker color can be a single color value or an iterable\n",
    ")])\n",
    "\n",
    "fig.update_layout(title_text='리뷰의 별점 분포')"
   ]
  },
  {
   "cell_type": "markdown",
   "id": "05a0059e",
   "metadata": {},
   "source": [
    "# 2. Pie Chart (긍정, 부정)\n",
    "JAVA Script : https://plotly.com/javascript/pie-charts/"
   ]
  },
  {
   "cell_type": "code",
   "execution_count": null,
   "id": "901b8735",
   "metadata": {},
   "outputs": [],
   "source": [
    "def make_react_data(val):\n",
    "    if (1 <= val < 4):\n",
    "        return 'Negative'\n",
    "    elif (4 <= val < 6):\n",
    "        return 'Positive'\n",
    "    else:\n",
    "        return None"
   ]
  },
  {
   "cell_type": "code",
   "execution_count": null,
   "id": "7890947e",
   "metadata": {},
   "outputs": [],
   "source": [
    "react_data = y_data.apply(lambda val:make_react_data(val))\n",
    "react_data"
   ]
  },
  {
   "cell_type": "code",
   "execution_count": null,
   "id": "9401bb58",
   "metadata": {},
   "outputs": [],
   "source": [
    "react = react_data.value_counts()\n",
    "react['Negative']"
   ]
  },
  {
   "cell_type": "code",
   "execution_count": null,
   "id": "27fb8749",
   "metadata": {},
   "outputs": [],
   "source": [
    "import plotly.express as px\n",
    "\n",
    "fig = px.pie(y_data, values=react, names=react, color=react, title='리뷰의 긍정 및 부정 반응',\n",
    "             color_discrete_map={react['Negative']:'lightslategray',\n",
    "                                 react['Positive']:'royalblue'})\n",
    "\n",
    "fig.show()"
   ]
  },
  {
   "cell_type": "markdown",
   "id": "05b83722",
   "metadata": {},
   "source": [
    "# 3. 전체 카테고리 별점 분포 (Barh graph)\n",
    "Java Script : https://plotly.com/javascript/horizontal-bar-charts/#colored-bar-chart"
   ]
  },
  {
   "cell_type": "code",
   "execution_count": null,
   "id": "c3db6788",
   "metadata": {},
   "outputs": [],
   "source": [
    "## 데이터 가공 (%로 표현하기)\n",
    "\n",
    "## beauty\n",
    "beauty_x_data = beauty_total_data['review']\n",
    "beauty_y_data = beauty_total_data['star grade']\n",
    "beauty_y_data = beauty_y_data.apply(lambda val:make_y_data(val))\n",
    "beauty_rate_data = beauty_y_data.value_counts()\n",
    "\n",
    "## fashion\n",
    "fashion_x_data = fashion_total_data['review']\n",
    "fashion_y_data = fashion_total_data['star grade']\n",
    "fashion_y_data = fashion_y_data.apply(lambda val:make_y_data(val))\n",
    "fashion_rate_data = fashion_y_data.value_counts()\n",
    "\n",
    "## food\n",
    "food_x_data = food_total_data['review']\n",
    "food_y_data = food_total_data['star grade']\n",
    "food_y_data = food_y_data.apply(lambda val:make_y_data(val))\n",
    "food_rate_data = food_y_data.value_counts()\n",
    "\n",
    "## living\n",
    "living_x_data = living_total_data['review']\n",
    "living_y_data = living_total_data['star grade']\n",
    "living_y_data = living_y_data.apply(lambda val:make_y_data(val))\n",
    "living_rate_data = living_y_data.value_counts()\n",
    "\n",
    "## tech\n",
    "tech_x_data = tech_total_data['review']\n",
    "tech_y_data = tech_total_data['star grade']\n",
    "tech_y_data = tech_y_data.apply(lambda val:make_y_data(val))\n",
    "tech_rate_data = tech_y_data.value_counts()"
   ]
  },
  {
   "cell_type": "code",
   "execution_count": null,
   "id": "2d47db59",
   "metadata": {},
   "outputs": [],
   "source": [
    "(beauty_rate_data[1]/len(beauty_total_data))*100"
   ]
  },
  {
   "cell_type": "code",
   "execution_count": null,
   "id": "97718a36",
   "metadata": {},
   "outputs": [],
   "source": [
    "import plotly.graph_objects as go\n",
    "\n",
    "fig = go.Figure()\n",
    "fig.add_trace(go.Bar(\n",
    "    y=['beauty', 'fashion', 'food','living','tech'],\n",
    "    x=[beauty_rate_data[1]/len(beauty_total_data), fashion_rate_data[1], food_rate_data[1],living_rate_data[1],tech_rate_data[1]],\n",
    "    name='☆☆☆☆★',\n",
    "    orientation='h',\n",
    "    marker=dict(\n",
    "        color='lightslategray',\n",
    "        line=dict(color='white', width=1)\n",
    "    )\n",
    "))\n",
    "fig.add_trace(go.Bar(\n",
    "    y=['beauty', 'fashion', 'food','living','tech'],\n",
    "    x=[beauty_rate_data[2], fashion_rate_data[2], food_rate_data[2],living_rate_data[2],tech_rate_data[2]],\n",
    "    name='☆☆☆★★',\n",
    "    orientation='h',\n",
    "    marker=dict(\n",
    "        color='darkblue',\n",
    "        line=dict(color='white', width=1)\n",
    "    )\n",
    "))\n",
    "fig.add_trace(go.Bar(\n",
    "    y=['beauty', 'fashion', 'food','living','tech'],\n",
    "    x=[beauty_rate_data[3], fashion_rate_data[3], food_rate_data[3],living_rate_data[3],tech_rate_data[3]],\n",
    "    name='☆☆★★★',\n",
    "    orientation='h',\n",
    "    marker=dict(\n",
    "        color='royalblue',\n",
    "        line=dict(color='white', width=1)\n",
    "    )\n",
    "))\n",
    "fig.add_trace(go.Bar(\n",
    "    y=['beauty', 'fashion', 'food','living','tech'],\n",
    "    x=[beauty_rate_data[4], fashion_rate_data[4], food_rate_data[4],living_rate_data[4],tech_rate_data[4]],\n",
    "    name='☆★★★★',\n",
    "    orientation='h',\n",
    "    marker=dict(\n",
    "        color='skyblue',\n",
    "        line=dict(color='white', width=1)\n",
    "    )\n",
    "))\n",
    "fig.add_trace(go.Bar(\n",
    "    y=['beauty', 'fashion', 'food','living','tech'],\n",
    "    x=[beauty_rate_data[5], fashion_rate_data[5], food_rate_data[5],living_rate_data[5],tech_rate_data[5]],\n",
    "    name='★★★★★',\n",
    "    orientation='h',\n",
    "    marker=dict(\n",
    "        color='lightcyan',\n",
    "        line=dict(color='white', width=1)\n",
    "    )\n",
    "))\n",
    "\n",
    "fig.update_layout(barmode='stack')"
   ]
  },
  {
   "cell_type": "code",
   "execution_count": null,
   "id": "d9752f4e",
   "metadata": {},
   "outputs": [],
   "source": [
    "fig.show()"
   ]
  },
  {
   "cell_type": "code",
   "execution_count": null,
   "id": "6ce24436",
   "metadata": {},
   "outputs": [],
   "source": []
  }
 ],
 "metadata": {
  "kernelspec": {
   "display_name": "Python 3",
   "language": "python",
   "name": "python3"
  },
  "language_info": {
   "codemirror_mode": {
    "name": "ipython",
    "version": 3
   },
   "file_extension": ".py",
   "mimetype": "text/x-python",
   "name": "python",
   "nbconvert_exporter": "python",
   "pygments_lexer": "ipython3",
   "version": "3.6.4"
  }
 },
 "nbformat": 4,
 "nbformat_minor": 5
}
